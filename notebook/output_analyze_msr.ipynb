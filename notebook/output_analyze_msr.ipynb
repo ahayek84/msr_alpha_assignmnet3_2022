{
  "cells": [
    {
      "cell_type": "code",
      "execution_count": 1,
      "metadata": {
        "id": "7g9ve8Ng3Rrw"
      },
      "outputs": [],
      "source": [
        "%%capture\n",
        "\n",
        "! if [ -d msr_alpha_assignmnet3_2022 ]; then rm -Rf msr_alpha_assignmnet3_2022; fi\n",
        "! git clone https://github.com/ahayek84/msr_alpha_assignmnet3_2022.git\n",
        "%cd msr_alpha_assignmnet3_2022\n",
        "! git checkout analyze\n",
        "! pip install -r requirements.txt\n",
        "%cd process"
      ]
    },
    {
      "cell_type": "code",
      "execution_count": 30,
      "metadata": {
        "colab": {
          "base_uri": "https://localhost:8080/"
        },
        "id": "P527COQLHitR",
        "outputId": "a0470da2-5576-4dba-aae9-0a23dc459c08"
      },
      "outputs": [
        {
          "name": "stdout",
          "output_type": "stream",
          "text": [
            "/content/msr_alpha_assignmnet3_2022\n",
            "/content/msr_alpha_assignmnet3_2022/process\n"
          ]
        }
      ],
      "source": [
        "# %cd /content/msr_alpha_assignmnet3_2022\n",
        "# #     # ! git checkout fine_tune\n",
        "# %cd process"
      ]
    },
    {
      "cell_type": "markdown",
      "metadata": {
        "id": "xJBomdFAfN9T"
      },
      "source": [
        "# Result for combine labelled classifier"
      ]
    },
    {
      "cell_type": "markdown",
      "metadata": {
        "id": "fWcNaEx4p1yZ"
      },
      "source": [
        "## SMOTE (Assignment 2) Baseline (B)\n"
      ]
    },
    {
      "cell_type": "markdown",
      "metadata": {
        "id": "URd0ZGfnp-bj"
      },
      "source": [
        "### SMOTE for classifier RandomForest with combined labels\n"
      ]
    },
    {
      "cell_type": "code",
      "execution_count": 6,
      "metadata": {
        "colab": {
          "base_uri": "https://localhost:8080/"
        },
        "id": "5gzF5HYkrPO7",
        "outputId": "f968946b-7a9e-44d7-80f2-419dc955b8eb"
      },
      "outputs": [
        {
          "name": "stdout",
          "output_type": "stream",
          "text": [
            "================================================================================\n",
            "Using oversampling technique smote\n",
            "================================================================================\n",
            "2022-09-12 12:35:28,638:INFO:MulticlassOversampling: Running multiclass oversampling with strategy eq_1_vs_many_successive\n",
            "2022-09-12 12:35:28,639:INFO:MulticlassOversampling: Sampling minority class with label: 2\n",
            "2022-09-12 12:35:28,640:INFO:SMOTE: Running sampling via ('SMOTE', \"{'proportion': 1.0, 'n_neighbors': 3, 'nn_params': {}, 'n_jobs': 1, 'random_state': 0}\")\n",
            "2022-09-12 12:35:28,641:INFO:NearestNeighborsWithMetricTensor: NN fitting with metric minkowski\n",
            "2022-09-12 12:35:28,642:INFO:NearestNeighborsWithMetricTensor: kneighbors query minkowski\n",
            "2022-09-12 12:35:28,644:INFO:MulticlassOversampling: Sampling minority class with label: 1\n",
            "2022-09-12 12:35:28,646:INFO:SMOTE: Running sampling via ('SMOTE', \"{'proportion': 0.39195979899497485, 'n_neighbors': 3, 'nn_params': {}, 'n_jobs': 1, 'random_state': 0}\")\n",
            "2022-09-12 12:35:28,646:INFO:NearestNeighborsWithMetricTensor: NN fitting with metric minkowski\n",
            "2022-09-12 12:35:28,646:INFO:NearestNeighborsWithMetricTensor: kneighbors query minkowski\n",
            "Get eval score for mongodb\n",
            "Classification report \n",
            "               precision    recall  f1-score   support\n",
            "\n",
            "           1       0.33      0.67      0.44         3\n",
            "           2       0.33      0.50      0.40         4\n",
            "           3       1.00      0.29      0.44         7\n",
            "\n",
            "    accuracy                           0.43        14\n",
            "   macro avg       0.56      0.48      0.43        14\n",
            "weighted avg       0.67      0.43      0.43        14\n",
            "\n",
            "Get eval score for react\n",
            "Classification report \n",
            "               precision    recall  f1-score   support\n",
            "\n",
            "           1       0.33      0.10      0.15        10\n",
            "           2       0.31      0.23      0.26        22\n",
            "           3       0.61      0.78      0.68        49\n",
            "\n",
            "    accuracy                           0.54        81\n",
            "   macro avg       0.42      0.37      0.37        81\n",
            "weighted avg       0.50      0.54      0.50        81\n",
            "\n",
            "Get eval score for socketio\n",
            "Classification report \n",
            "               precision    recall  f1-score   support\n",
            "\n",
            "           1       0.50      0.67      0.57         9\n",
            "           2       0.50      0.43      0.46         7\n",
            "           3       1.00      0.50      0.67         4\n",
            "\n",
            "    accuracy                           0.55        20\n",
            "   macro avg       0.67      0.53      0.57        20\n",
            "weighted avg       0.60      0.55      0.55        20\n",
            "\n"
          ]
        }
      ],
      "source": [
        "!python -m main --model_type random_forest --combine_labels True --synthetic_method smote"
      ]
    },
    {
      "cell_type": "markdown",
      "metadata": {
        "id": "7vYzmvTmqoYR"
      },
      "source": [
        "### SMOTE for classifier SVN with combine labels "
      ]
    },
    {
      "cell_type": "code",
      "execution_count": 7,
      "metadata": {
        "colab": {
          "base_uri": "https://localhost:8080/"
        },
        "id": "fzjpJ-5LrXKR",
        "outputId": "8a4132b9-a765-4658-da2b-97afee0685c9"
      },
      "outputs": [
        {
          "name": "stdout",
          "output_type": "stream",
          "text": [
            "================================================================================\n",
            "Using oversampling technique smote\n",
            "================================================================================\n",
            "2022-09-12 12:35:30,420:INFO:MulticlassOversampling: Running multiclass oversampling with strategy eq_1_vs_many_successive\n",
            "2022-09-12 12:35:30,422:INFO:MulticlassOversampling: Sampling minority class with label: 2\n",
            "2022-09-12 12:35:30,424:INFO:SMOTE: Running sampling via ('SMOTE', \"{'proportion': 1.0, 'n_neighbors': 3, 'nn_params': {}, 'n_jobs': 1, 'random_state': 0}\")\n",
            "2022-09-12 12:35:30,424:INFO:NearestNeighborsWithMetricTensor: NN fitting with metric minkowski\n",
            "2022-09-12 12:35:30,425:INFO:NearestNeighborsWithMetricTensor: kneighbors query minkowski\n",
            "2022-09-12 12:35:30,428:INFO:MulticlassOversampling: Sampling minority class with label: 1\n",
            "2022-09-12 12:35:30,430:INFO:SMOTE: Running sampling via ('SMOTE', \"{'proportion': 0.39195979899497485, 'n_neighbors': 3, 'nn_params': {}, 'n_jobs': 1, 'random_state': 0}\")\n",
            "2022-09-12 12:35:30,431:INFO:NearestNeighborsWithMetricTensor: NN fitting with metric minkowski\n",
            "2022-09-12 12:35:30,432:INFO:NearestNeighborsWithMetricTensor: kneighbors query minkowski\n",
            "/usr/local/lib/python3.7/dist-packages/sklearn/svm/_base.py:289: ConvergenceWarning: Solver terminated early (max_iter=10000).  Consider pre-processing your data with StandardScaler or MinMaxScaler.\n",
            "  ConvergenceWarning,\n",
            "Get eval score for mongodb\n",
            "Classification report \n",
            "               precision    recall  f1-score   support\n",
            "\n",
            "           1       0.25      0.67      0.36         3\n",
            "           2       0.25      0.25      0.25         4\n",
            "           3       0.50      0.14      0.22         7\n",
            "\n",
            "    accuracy                           0.29        14\n",
            "   macro avg       0.33      0.35      0.28        14\n",
            "weighted avg       0.38      0.29      0.26        14\n",
            "\n",
            "Get eval score for react\n",
            "Classification report \n",
            "               precision    recall  f1-score   support\n",
            "\n",
            "           1       0.17      0.10      0.12        10\n",
            "           2       0.30      0.32      0.31        22\n",
            "           3       0.56      0.59      0.57        49\n",
            "\n",
            "    accuracy                           0.46        81\n",
            "   macro avg       0.34      0.34      0.34        81\n",
            "weighted avg       0.44      0.46      0.45        81\n",
            "\n",
            "Get eval score for socketio\n",
            "Classification report \n",
            "               precision    recall  f1-score   support\n",
            "\n",
            "           1       0.67      0.89      0.76         9\n",
            "           2       0.67      0.57      0.62         7\n",
            "           3       0.50      0.25      0.33         4\n",
            "\n",
            "    accuracy                           0.65        20\n",
            "   macro avg       0.61      0.57      0.57        20\n",
            "weighted avg       0.63      0.65      0.62        20\n",
            "\n"
          ]
        }
      ],
      "source": [
        "!python -m main --model_type svn --combine_labels True --synthetic_method smote"
      ]
    },
    {
      "cell_type": "markdown",
      "metadata": {
        "id": "AHkWoIfpp6k4"
      },
      "source": [
        "## PROWSYN (Assigment 3) Current (C)\n"
      ]
    },
    {
      "cell_type": "markdown",
      "metadata": {
        "id": "4r475mpnqFml"
      },
      "source": [
        "### PROWSYN for classifier RandomForest with combined labels"
      ]
    },
    {
      "cell_type": "code",
      "execution_count": 8,
      "metadata": {
        "colab": {
          "base_uri": "https://localhost:8080/"
        },
        "id": "kJFwggusraIM",
        "outputId": "f5ba5e68-246b-4d93-a438-48203405b718"
      },
      "outputs": [
        {
          "name": "stdout",
          "output_type": "stream",
          "text": [
            "================================================================================\n",
            "Using oversampling technique prowsyn\n",
            "================================================================================\n",
            "2022-09-12 12:51:53,011:INFO:MulticlassOversampling: Running multiclass oversampling with strategy eq_1_vs_many_successive\n",
            "2022-09-12 12:51:53,012:INFO:MulticlassOversampling: Sampling minority class with label: 2\n",
            "2022-09-12 12:51:53,013:INFO:ProWSyn: Running sampling via ('ProWSyn', \"{'proportion': 1.0, 'n_neighbors': 5, 'nn_params': {}, 'L': 5, 'theta': 1.0, 'n_jobs': 1, 'random_state': None}\")\n",
            "2022-09-12 12:51:53,013:INFO:NearestNeighborsWithMetricTensor: NN fitting with metric minkowski\n",
            "2022-09-12 12:51:53,014:INFO:NearestNeighborsWithMetricTensor: kneighbors query minkowski\n",
            "2022-09-12 12:51:53,016:INFO:NearestNeighborsWithMetricTensor: NN fitting with metric minkowski\n",
            "2022-09-12 12:51:53,016:INFO:NearestNeighborsWithMetricTensor: kneighbors query minkowski\n",
            "2022-09-12 12:51:53,025:INFO:MulticlassOversampling: Sampling minority class with label: 1\n",
            "2022-09-12 12:51:53,026:INFO:ProWSyn: Running sampling via ('ProWSyn', \"{'proportion': 0.39195979899497485, 'n_neighbors': 5, 'nn_params': {}, 'L': 5, 'theta': 1.0, 'n_jobs': 1, 'random_state': None}\")\n",
            "2022-09-12 12:51:53,027:INFO:NearestNeighborsWithMetricTensor: NN fitting with metric minkowski\n",
            "2022-09-12 12:51:53,027:INFO:NearestNeighborsWithMetricTensor: kneighbors query minkowski\n",
            "2022-09-12 12:51:53,030:INFO:NearestNeighborsWithMetricTensor: NN fitting with metric minkowski\n",
            "2022-09-12 12:51:53,030:INFO:NearestNeighborsWithMetricTensor: kneighbors query minkowski\n",
            "Get eval score for mongodb\n",
            "Classification report \n",
            "               precision    recall  f1-score   support\n",
            "\n",
            "           1       0.40      0.67      0.50         3\n",
            "           2       0.33      0.25      0.29         4\n",
            "           3       0.67      0.57      0.62         7\n",
            "\n",
            "    accuracy                           0.50        14\n",
            "   macro avg       0.47      0.50      0.47        14\n",
            "weighted avg       0.51      0.50      0.50        14\n",
            "\n",
            "Get eval score for react\n",
            "Classification report \n",
            "               precision    recall  f1-score   support\n",
            "\n",
            "           1       0.00      0.00      0.00        10\n",
            "           2       0.33      0.18      0.24        22\n",
            "           3       0.61      0.84      0.71        49\n",
            "\n",
            "    accuracy                           0.56        81\n",
            "   macro avg       0.32      0.34      0.31        81\n",
            "weighted avg       0.46      0.56      0.49        81\n",
            "\n",
            "Get eval score for socketio\n",
            "Classification report \n",
            "               precision    recall  f1-score   support\n",
            "\n",
            "           1       0.50      0.78      0.61         9\n",
            "           2       0.50      0.29      0.36         7\n",
            "           3       0.50      0.25      0.33         4\n",
            "\n",
            "    accuracy                           0.50        20\n",
            "   macro avg       0.50      0.44      0.44        20\n",
            "weighted avg       0.50      0.50      0.47        20\n",
            "\n"
          ]
        }
      ],
      "source": [
        "!python -m main --model_type random_forest --combine_labels True"
      ]
    },
    {
      "cell_type": "markdown",
      "metadata": {
        "id": "iP8Tna5cqted"
      },
      "source": [
        "### PROWSYN for classifier SVM with combine labels "
      ]
    },
    {
      "cell_type": "code",
      "execution_count": 9,
      "metadata": {
        "colab": {
          "base_uri": "https://localhost:8080/"
        },
        "id": "giDG2ZvDrdgE",
        "outputId": "4d5f5dde-c758-4886-ae2f-6044a7fb9f19"
      },
      "outputs": [
        {
          "name": "stdout",
          "output_type": "stream",
          "text": [
            "================================================================================\n",
            "Using oversampling technique prowsyn\n",
            "================================================================================\n",
            "2022-09-12 12:51:54,952:INFO:MulticlassOversampling: Running multiclass oversampling with strategy eq_1_vs_many_successive\n",
            "2022-09-12 12:51:54,953:INFO:MulticlassOversampling: Sampling minority class with label: 2\n",
            "2022-09-12 12:51:54,954:INFO:ProWSyn: Running sampling via ('ProWSyn', \"{'proportion': 1.0, 'n_neighbors': 5, 'nn_params': {}, 'L': 5, 'theta': 1.0, 'n_jobs': 1, 'random_state': None}\")\n",
            "2022-09-12 12:51:54,954:INFO:NearestNeighborsWithMetricTensor: NN fitting with metric minkowski\n",
            "2022-09-12 12:51:54,955:INFO:NearestNeighborsWithMetricTensor: kneighbors query minkowski\n",
            "2022-09-12 12:51:54,957:INFO:NearestNeighborsWithMetricTensor: NN fitting with metric minkowski\n",
            "2022-09-12 12:51:54,957:INFO:NearestNeighborsWithMetricTensor: kneighbors query minkowski\n",
            "2022-09-12 12:51:54,966:INFO:MulticlassOversampling: Sampling minority class with label: 1\n",
            "2022-09-12 12:51:54,967:INFO:ProWSyn: Running sampling via ('ProWSyn', \"{'proportion': 0.39195979899497485, 'n_neighbors': 5, 'nn_params': {}, 'L': 5, 'theta': 1.0, 'n_jobs': 1, 'random_state': None}\")\n",
            "2022-09-12 12:51:54,968:INFO:NearestNeighborsWithMetricTensor: NN fitting with metric minkowski\n",
            "2022-09-12 12:51:54,968:INFO:NearestNeighborsWithMetricTensor: kneighbors query minkowski\n",
            "2022-09-12 12:51:54,970:INFO:NearestNeighborsWithMetricTensor: NN fitting with metric minkowski\n",
            "2022-09-12 12:51:54,971:INFO:NearestNeighborsWithMetricTensor: kneighbors query minkowski\n",
            "/usr/local/lib/python3.7/dist-packages/sklearn/svm/_base.py:289: ConvergenceWarning: Solver terminated early (max_iter=10000).  Consider pre-processing your data with StandardScaler or MinMaxScaler.\n",
            "  ConvergenceWarning,\n",
            "Get eval score for mongodb\n",
            "Classification report \n",
            "               precision    recall  f1-score   support\n",
            "\n",
            "           1       0.38      1.00      0.55         3\n",
            "           2       0.50      0.50      0.50         4\n",
            "           3       1.00      0.29      0.44         7\n",
            "\n",
            "    accuracy                           0.50        14\n",
            "   macro avg       0.62      0.60      0.50        14\n",
            "weighted avg       0.72      0.50      0.48        14\n",
            "\n",
            "Get eval score for react\n",
            "Classification report \n",
            "               precision    recall  f1-score   support\n",
            "\n",
            "           1       0.33      0.10      0.15        10\n",
            "           2       0.40      0.18      0.25        22\n",
            "           3       0.60      0.84      0.70        49\n",
            "\n",
            "    accuracy                           0.57        81\n",
            "   macro avg       0.45      0.37      0.37        81\n",
            "weighted avg       0.51      0.57      0.51        81\n",
            "\n",
            "Get eval score for socketio\n",
            "Classification report \n",
            "               precision    recall  f1-score   support\n",
            "\n",
            "           1       0.57      0.89      0.70         9\n",
            "           2       0.80      0.57      0.67         7\n",
            "           3       0.00      0.00      0.00         4\n",
            "\n",
            "    accuracy                           0.60        20\n",
            "   macro avg       0.46      0.49      0.45        20\n",
            "weighted avg       0.54      0.60      0.55        20\n",
            "\n"
          ]
        }
      ],
      "source": [
        "!python -m main --model_type svn --combine_labels True"
      ]
    },
    {
      "cell_type": "markdown",
      "metadata": {
        "id": "Xy7jOQz8dt7n"
      },
      "source": [
        "# Results for All label classifier"
      ]
    },
    {
      "cell_type": "markdown",
      "metadata": {
        "id": "-CfFEFNXqbo1"
      },
      "source": [
        "## SMOTE (Assignment 2) Baseline (B)"
      ]
    },
    {
      "cell_type": "markdown",
      "metadata": {
        "id": "Y4awybb_qerb"
      },
      "source": [
        "### SMOTE for classifier RandomForest with all labels"
      ]
    },
    {
      "cell_type": "code",
      "execution_count": 10,
      "metadata": {
        "colab": {
          "base_uri": "https://localhost:8080/"
        },
        "id": "ObqWyKSdrhrP",
        "outputId": "ed750ce4-42b2-48d5-d7fc-2fb3a639edc6"
      },
      "outputs": [
        {
          "name": "stdout",
          "output_type": "stream",
          "text": [
            "================================================================================\n",
            "Using oversampling technique smote\n",
            "================================================================================\n",
            "2022-09-12 13:09:37,332:INFO:MulticlassOversampling: Running multiclass oversampling with strategy eq_1_vs_many_successive\n",
            "2022-09-12 13:09:37,333:INFO:MulticlassOversampling: Sampling minority class with label: 3\n",
            "2022-09-12 13:09:37,334:INFO:SMOTE: Running sampling via ('SMOTE', \"{'proportion': 1.0, 'n_neighbors': 3, 'nn_params': {}, 'n_jobs': 1, 'random_state': 0}\")\n",
            "2022-09-12 13:09:37,334:INFO:NearestNeighborsWithMetricTensor: NN fitting with metric minkowski\n",
            "2022-09-12 13:09:37,335:INFO:NearestNeighborsWithMetricTensor: kneighbors query minkowski\n",
            "2022-09-12 13:09:37,337:INFO:MulticlassOversampling: Sampling minority class with label: 5\n",
            "2022-09-12 13:09:37,338:INFO:SMOTE: Running sampling via ('SMOTE', \"{'proportion': 0.41324921135646686, 'n_neighbors': 3, 'nn_params': {}, 'n_jobs': 1, 'random_state': 0}\")\n",
            "2022-09-12 13:09:37,338:INFO:NearestNeighborsWithMetricTensor: NN fitting with metric minkowski\n",
            "2022-09-12 13:09:37,338:INFO:NearestNeighborsWithMetricTensor: kneighbors query minkowski\n",
            "2022-09-12 13:09:37,339:INFO:MulticlassOversampling: Sampling minority class with label: 1\n",
            "2022-09-12 13:09:37,340:INFO:SMOTE: Running sampling via ('SMOTE', \"{'proportion': 0.2734375, 'n_neighbors': 3, 'nn_params': {}, 'n_jobs': 1, 'random_state': 0}\")\n",
            "2022-09-12 13:09:37,340:INFO:NearestNeighborsWithMetricTensor: NN fitting with metric minkowski\n",
            "2022-09-12 13:09:37,341:INFO:NearestNeighborsWithMetricTensor: kneighbors query minkowski\n",
            "2022-09-12 13:09:37,342:INFO:MulticlassOversampling: Sampling minority class with label: 2\n",
            "2022-09-12 13:09:37,343:INFO:SMOTE: Running sampling via ('SMOTE', \"{'proportion': 0.20625889046941678, 'n_neighbors': 3, 'nn_params': {}, 'n_jobs': 1, 'random_state': 0}\")\n",
            "2022-09-12 13:09:37,343:INFO:NearestNeighborsWithMetricTensor: NN fitting with metric minkowski\n",
            "2022-09-12 13:09:37,344:INFO:NearestNeighborsWithMetricTensor: kneighbors query minkowski\n",
            "Get eval score for mongodb\n",
            "Classification report \n",
            "               precision    recall  f1-score   support\n",
            "\n",
            "           1       0.00      0.00      0.00         1\n",
            "           2       0.00      0.00      0.00         3\n",
            "           3       0.29      0.50      0.36         4\n",
            "           4       1.00      0.33      0.50         3\n",
            "           5       0.00      0.00      0.00         2\n",
            "\n",
            "    accuracy                           0.23        13\n",
            "   macro avg       0.26      0.17      0.17        13\n",
            "weighted avg       0.32      0.23      0.23        13\n",
            "\n",
            "Get eval score for react\n",
            "Classification report \n",
            "               precision    recall  f1-score   support\n",
            "\n",
            "           1       0.20      0.33      0.25         6\n",
            "           2       0.20      0.50      0.29         2\n",
            "           3       0.20      0.14      0.16        22\n",
            "           4       0.49      0.51      0.50        41\n",
            "           5       0.10      0.08      0.09        12\n",
            "\n",
            "    accuracy                           0.34        83\n",
            "   macro avg       0.24      0.31      0.26        83\n",
            "weighted avg       0.33      0.34      0.33        83\n",
            "\n",
            "Get eval score for socketio\n",
            "Classification report \n",
            "               precision    recall  f1-score   support\n",
            "\n",
            "           1       0.20      0.25      0.22         4\n",
            "           2       0.00      0.00      0.00         5\n",
            "           3       0.44      0.57      0.50         7\n",
            "           4       0.67      0.67      0.67         3\n",
            "\n",
            "    accuracy                           0.37        19\n",
            "   macro avg       0.33      0.37      0.35        19\n",
            "weighted avg       0.31      0.37      0.34        19\n",
            "\n"
          ]
        }
      ],
      "source": [
        "!python -m main --model_type random_forest --combine_labels False --synthetic_method smote"
      ]
    },
    {
      "cell_type": "markdown",
      "metadata": {
        "id": "M6AusRSXqzb2"
      },
      "source": [
        "### SMOTE for classifier SVN with all labels"
      ]
    },
    {
      "cell_type": "code",
      "execution_count": 11,
      "metadata": {
        "colab": {
          "base_uri": "https://localhost:8080/"
        },
        "id": "wWHiBk3srkAf",
        "outputId": "f7663f7b-d916-4d7e-97ad-da8d6f6da4d3"
      },
      "outputs": [
        {
          "name": "stdout",
          "output_type": "stream",
          "text": [
            "================================================================================\n",
            "Using oversampling technique smote\n",
            "================================================================================\n",
            "2022-09-12 13:09:49,391:INFO:MulticlassOversampling: Running multiclass oversampling with strategy eq_1_vs_many_successive\n",
            "2022-09-12 13:09:49,392:INFO:MulticlassOversampling: Sampling minority class with label: 3\n",
            "2022-09-12 13:09:49,393:INFO:SMOTE: Running sampling via ('SMOTE', \"{'proportion': 1.0, 'n_neighbors': 3, 'nn_params': {}, 'n_jobs': 1, 'random_state': 0}\")\n",
            "2022-09-12 13:09:49,394:INFO:NearestNeighborsWithMetricTensor: NN fitting with metric minkowski\n",
            "2022-09-12 13:09:49,394:INFO:NearestNeighborsWithMetricTensor: kneighbors query minkowski\n",
            "2022-09-12 13:09:49,396:INFO:MulticlassOversampling: Sampling minority class with label: 5\n",
            "2022-09-12 13:09:49,397:INFO:SMOTE: Running sampling via ('SMOTE', \"{'proportion': 0.41324921135646686, 'n_neighbors': 3, 'nn_params': {}, 'n_jobs': 1, 'random_state': 0}\")\n",
            "2022-09-12 13:09:49,397:INFO:NearestNeighborsWithMetricTensor: NN fitting with metric minkowski\n",
            "2022-09-12 13:09:49,398:INFO:NearestNeighborsWithMetricTensor: kneighbors query minkowski\n",
            "2022-09-12 13:09:49,399:INFO:MulticlassOversampling: Sampling minority class with label: 1\n",
            "2022-09-12 13:09:49,400:INFO:SMOTE: Running sampling via ('SMOTE', \"{'proportion': 0.2734375, 'n_neighbors': 3, 'nn_params': {}, 'n_jobs': 1, 'random_state': 0}\")\n",
            "2022-09-12 13:09:49,400:INFO:NearestNeighborsWithMetricTensor: NN fitting with metric minkowski\n",
            "2022-09-12 13:09:49,401:INFO:NearestNeighborsWithMetricTensor: kneighbors query minkowski\n",
            "2022-09-12 13:09:49,402:INFO:MulticlassOversampling: Sampling minority class with label: 2\n",
            "2022-09-12 13:09:49,403:INFO:SMOTE: Running sampling via ('SMOTE', \"{'proportion': 0.20625889046941678, 'n_neighbors': 3, 'nn_params': {}, 'n_jobs': 1, 'random_state': 0}\")\n",
            "2022-09-12 13:09:49,403:INFO:NearestNeighborsWithMetricTensor: NN fitting with metric minkowski\n",
            "2022-09-12 13:09:49,403:INFO:NearestNeighborsWithMetricTensor: kneighbors query minkowski\n",
            "/usr/local/lib/python3.7/dist-packages/sklearn/svm/_base.py:289: ConvergenceWarning: Solver terminated early (max_iter=2000).  Consider pre-processing your data with StandardScaler or MinMaxScaler.\n",
            "  ConvergenceWarning,\n",
            "Get eval score for mongodb\n",
            "Classification report \n",
            "               precision    recall  f1-score   support\n",
            "\n",
            "           1       0.00      0.00      0.00         1\n",
            "           2       0.20      0.33      0.25         3\n",
            "           3       0.00      0.00      0.00         4\n",
            "           4       0.25      0.33      0.29         3\n",
            "           5       0.00      0.00      0.00         2\n",
            "\n",
            "    accuracy                           0.15        13\n",
            "   macro avg       0.09      0.13      0.11        13\n",
            "weighted avg       0.10      0.15      0.12        13\n",
            "\n",
            "Get eval score for react\n",
            "Classification report \n",
            "               precision    recall  f1-score   support\n",
            "\n",
            "           1       0.22      0.33      0.27         6\n",
            "           2       0.04      0.50      0.08         2\n",
            "           3       0.40      0.18      0.25        22\n",
            "           4       0.48      0.24      0.32        41\n",
            "           5       0.20      0.33      0.25        12\n",
            "\n",
            "    accuracy                           0.25        83\n",
            "   macro avg       0.27      0.32      0.23        83\n",
            "weighted avg       0.39      0.25      0.28        83\n",
            "\n",
            "Get eval score for socketio\n",
            "Classification report \n",
            "               precision    recall  f1-score   support\n",
            "\n",
            "           1       0.33      0.25      0.29         4\n",
            "           2       0.14      0.20      0.17         5\n",
            "           3       0.67      0.57      0.62         7\n",
            "           4       0.33      0.33      0.33         3\n",
            "\n",
            "    accuracy                           0.37        19\n",
            "   macro avg       0.37      0.34      0.35        19\n",
            "weighted avg       0.41      0.37      0.38        19\n",
            "\n"
          ]
        }
      ],
      "source": [
        "!python -m main --model_type svn --combine_labels False --synthetic_method smote"
      ]
    },
    {
      "cell_type": "markdown",
      "metadata": {
        "id": "Zq1CPK_Mq9yy"
      },
      "source": [
        "## PROWSYN (Assignment 3) Current (C)"
      ]
    },
    {
      "cell_type": "markdown",
      "metadata": {
        "id": "R_FzKBqUeH84"
      },
      "source": [
        "### PROWSYN for classifier RandomForest with all labels"
      ]
    },
    {
      "cell_type": "code",
      "execution_count": 12,
      "metadata": {
        "colab": {
          "base_uri": "https://localhost:8080/"
        },
        "id": "xjKd0nUsrnbG",
        "outputId": "aa74acf9-5ee5-4bd1-b556-bf87754ed2e8"
      },
      "outputs": [
        {
          "name": "stdout",
          "output_type": "stream",
          "text": [
            "================================================================================\n",
            "Using oversampling technique prowsyn\n",
            "================================================================================\n",
            "2022-09-12 13:13:25,873:INFO:MulticlassOversampling: Running multiclass oversampling with strategy eq_1_vs_many_successive\n",
            "2022-09-12 13:13:25,874:INFO:MulticlassOversampling: Sampling minority class with label: 3\n",
            "2022-09-12 13:13:25,875:INFO:ProWSyn: Running sampling via ('ProWSyn', \"{'proportion': 1.0, 'n_neighbors': 5, 'nn_params': {}, 'L': 5, 'theta': 1.0, 'n_jobs': 1, 'random_state': None}\")\n",
            "2022-09-12 13:13:25,875:INFO:NearestNeighborsWithMetricTensor: NN fitting with metric minkowski\n",
            "2022-09-12 13:13:25,876:INFO:NearestNeighborsWithMetricTensor: kneighbors query minkowski\n",
            "2022-09-12 13:13:25,878:INFO:NearestNeighborsWithMetricTensor: NN fitting with metric minkowski\n",
            "2022-09-12 13:13:25,878:INFO:NearestNeighborsWithMetricTensor: kneighbors query minkowski\n",
            "2022-09-12 13:13:25,885:INFO:MulticlassOversampling: Sampling minority class with label: 5\n",
            "2022-09-12 13:13:25,886:INFO:ProWSyn: Running sampling via ('ProWSyn', \"{'proportion': 0.41324921135646686, 'n_neighbors': 5, 'nn_params': {}, 'L': 5, 'theta': 1.0, 'n_jobs': 1, 'random_state': None}\")\n",
            "2022-09-12 13:13:25,887:INFO:NearestNeighborsWithMetricTensor: NN fitting with metric minkowski\n",
            "2022-09-12 13:13:25,887:INFO:NearestNeighborsWithMetricTensor: kneighbors query minkowski\n",
            "2022-09-12 13:13:25,898:INFO:MulticlassOversampling: Sampling minority class with label: 1\n",
            "2022-09-12 13:13:25,899:INFO:ProWSyn: Running sampling via ('ProWSyn', \"{'proportion': 0.2734375, 'n_neighbors': 5, 'nn_params': {}, 'L': 5, 'theta': 1.0, 'n_jobs': 1, 'random_state': None}\")\n",
            "2022-09-12 13:13:25,900:INFO:NearestNeighborsWithMetricTensor: NN fitting with metric minkowski\n",
            "2022-09-12 13:13:25,900:INFO:NearestNeighborsWithMetricTensor: kneighbors query minkowski\n",
            "2022-09-12 13:13:25,912:INFO:MulticlassOversampling: Sampling minority class with label: 2\n",
            "2022-09-12 13:13:25,914:INFO:ProWSyn: Running sampling via ('ProWSyn', \"{'proportion': 0.20625889046941678, 'n_neighbors': 5, 'nn_params': {}, 'L': 5, 'theta': 1.0, 'n_jobs': 1, 'random_state': None}\")\n",
            "2022-09-12 13:13:25,914:INFO:NearestNeighborsWithMetricTensor: NN fitting with metric minkowski\n",
            "2022-09-12 13:13:25,914:INFO:NearestNeighborsWithMetricTensor: kneighbors query minkowski\n",
            "Get eval score for mongodb\n",
            "Classification report \n",
            "               precision    recall  f1-score   support\n",
            "\n",
            "           1       0.00      0.00      0.00         1\n",
            "           2       0.00      0.00      0.00         3\n",
            "           3       0.43      0.75      0.55         4\n",
            "           4       0.50      0.33      0.40         3\n",
            "           5       0.00      0.00      0.00         2\n",
            "\n",
            "    accuracy                           0.31        13\n",
            "   macro avg       0.19      0.22      0.19        13\n",
            "weighted avg       0.25      0.31      0.26        13\n",
            "\n",
            "Get eval score for react\n",
            "Classification report \n",
            "               precision    recall  f1-score   support\n",
            "\n",
            "           1       0.00      0.00      0.00         6\n",
            "           2       0.00      0.00      0.00         2\n",
            "           3       0.29      0.18      0.22        22\n",
            "           4       0.49      0.68      0.57        41\n",
            "           5       0.17      0.08      0.11        12\n",
            "\n",
            "    accuracy                           0.40        83\n",
            "   macro avg       0.19      0.19      0.18        83\n",
            "weighted avg       0.34      0.40      0.36        83\n",
            "\n",
            "Get eval score for socketio\n",
            "Classification report \n",
            "               precision    recall  f1-score   support\n",
            "\n",
            "           1       0.20      0.25      0.22         4\n",
            "           2       0.00      0.00      0.00         5\n",
            "           3       0.50      0.43      0.46         7\n",
            "           4       0.75      1.00      0.86         3\n",
            "\n",
            "    accuracy                           0.37        19\n",
            "   macro avg       0.36      0.42      0.39        19\n",
            "weighted avg       0.34      0.37      0.35        19\n",
            "\n"
          ]
        }
      ],
      "source": [
        "!python -m main --model_type random_forest --combine_labels False"
      ]
    },
    {
      "cell_type": "markdown",
      "metadata": {
        "id": "lPuUHrPWq7ya"
      },
      "source": [
        "### PROWSYN for classifier SVN with all labels "
      ]
    },
    {
      "cell_type": "code",
      "execution_count": 13,
      "metadata": {
        "colab": {
          "base_uri": "https://localhost:8080/"
        },
        "id": "6NgvfgCIrpxd",
        "outputId": "037406ff-9f64-437e-87d9-6535b44e7630"
      },
      "outputs": [
        {
          "name": "stdout",
          "output_type": "stream",
          "text": [
            "================================================================================\n",
            "Using oversampling technique prowsyn\n",
            "================================================================================\n",
            "2022-09-12 13:13:42,531:INFO:MulticlassOversampling: Running multiclass oversampling with strategy eq_1_vs_many_successive\n",
            "2022-09-12 13:13:42,532:INFO:MulticlassOversampling: Sampling minority class with label: 3\n",
            "2022-09-12 13:13:42,533:INFO:ProWSyn: Running sampling via ('ProWSyn', \"{'proportion': 1.0, 'n_neighbors': 5, 'nn_params': {}, 'L': 5, 'theta': 1.0, 'n_jobs': 1, 'random_state': None}\")\n",
            "2022-09-12 13:13:42,533:INFO:NearestNeighborsWithMetricTensor: NN fitting with metric minkowski\n",
            "2022-09-12 13:13:42,534:INFO:NearestNeighborsWithMetricTensor: kneighbors query minkowski\n",
            "2022-09-12 13:13:42,535:INFO:NearestNeighborsWithMetricTensor: NN fitting with metric minkowski\n",
            "2022-09-12 13:13:42,535:INFO:NearestNeighborsWithMetricTensor: kneighbors query minkowski\n",
            "2022-09-12 13:13:42,540:INFO:MulticlassOversampling: Sampling minority class with label: 5\n",
            "2022-09-12 13:13:42,541:INFO:ProWSyn: Running sampling via ('ProWSyn', \"{'proportion': 0.41324921135646686, 'n_neighbors': 5, 'nn_params': {}, 'L': 5, 'theta': 1.0, 'n_jobs': 1, 'random_state': None}\")\n",
            "2022-09-12 13:13:42,541:INFO:NearestNeighborsWithMetricTensor: NN fitting with metric minkowski\n",
            "2022-09-12 13:13:42,542:INFO:NearestNeighborsWithMetricTensor: kneighbors query minkowski\n",
            "2022-09-12 13:13:42,552:INFO:MulticlassOversampling: Sampling minority class with label: 1\n",
            "2022-09-12 13:13:42,553:INFO:ProWSyn: Running sampling via ('ProWSyn', \"{'proportion': 0.2734375, 'n_neighbors': 5, 'nn_params': {}, 'L': 5, 'theta': 1.0, 'n_jobs': 1, 'random_state': None}\")\n",
            "2022-09-12 13:13:42,553:INFO:NearestNeighborsWithMetricTensor: NN fitting with metric minkowski\n",
            "2022-09-12 13:13:42,554:INFO:NearestNeighborsWithMetricTensor: kneighbors query minkowski\n",
            "2022-09-12 13:13:42,564:INFO:MulticlassOversampling: Sampling minority class with label: 2\n",
            "2022-09-12 13:13:42,565:INFO:ProWSyn: Running sampling via ('ProWSyn', \"{'proportion': 0.20625889046941678, 'n_neighbors': 5, 'nn_params': {}, 'L': 5, 'theta': 1.0, 'n_jobs': 1, 'random_state': None}\")\n",
            "2022-09-12 13:13:42,565:INFO:NearestNeighborsWithMetricTensor: NN fitting with metric minkowski\n",
            "2022-09-12 13:13:42,566:INFO:NearestNeighborsWithMetricTensor: kneighbors query minkowski\n",
            "/usr/local/lib/python3.7/dist-packages/sklearn/svm/_base.py:289: ConvergenceWarning: Solver terminated early (max_iter=2000).  Consider pre-processing your data with StandardScaler or MinMaxScaler.\n",
            "  ConvergenceWarning,\n",
            "Get eval score for mongodb\n",
            "Classification report \n",
            "               precision    recall  f1-score   support\n",
            "\n",
            "           1       0.00      0.00      0.00         1\n",
            "           2       0.33      0.33      0.33         3\n",
            "           3       0.25      0.25      0.25         4\n",
            "           4       0.25      0.33      0.29         3\n",
            "           5       0.00      0.00      0.00         2\n",
            "\n",
            "    accuracy                           0.23        13\n",
            "   macro avg       0.17      0.18      0.17        13\n",
            "weighted avg       0.21      0.23      0.22        13\n",
            "\n",
            "Get eval score for react\n",
            "Classification report \n",
            "               precision    recall  f1-score   support\n",
            "\n",
            "           1       0.07      0.17      0.10         6\n",
            "           2       0.00      0.00      0.00         2\n",
            "           3       0.27      0.14      0.18        22\n",
            "           4       0.55      0.66      0.60        41\n",
            "           5       0.33      0.17      0.22        12\n",
            "\n",
            "    accuracy                           0.40        83\n",
            "   macro avg       0.24      0.23      0.22        83\n",
            "weighted avg       0.40      0.40      0.38        83\n",
            "\n",
            "Get eval score for socketio\n",
            "Classification report \n",
            "               precision    recall  f1-score   support\n",
            "\n",
            "           1       0.50      0.25      0.33         4\n",
            "           2       0.33      0.20      0.25         5\n",
            "           3       0.60      0.86      0.71         7\n",
            "           4       0.33      0.33      0.33         3\n",
            "           5       0.00      0.00      0.00         0\n",
            "\n",
            "    accuracy                           0.47        19\n",
            "   macro avg       0.35      0.33      0.32        19\n",
            "weighted avg       0.47      0.47      0.45        19\n",
            "\n"
          ]
        }
      ],
      "source": [
        "!python -m main --model_type svn --combine_labels False"
      ]
    }
  ],
  "metadata": {
    "colab": {
      "collapsed_sections": [],
      "provenance": []
    },
    "kernelspec": {
      "display_name": "Python 3",
      "name": "python3"
    },
    "language_info": {
      "name": "python"
    }
  },
  "nbformat": 4,
  "nbformat_minor": 0
}
